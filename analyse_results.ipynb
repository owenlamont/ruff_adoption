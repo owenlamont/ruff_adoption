{
 "cells": [
  {
   "cell_type": "code",
   "execution_count": null,
   "id": "0",
   "metadata": {
    "editable": true,
    "slideshow": {
     "slide_type": ""
    },
    "tags": []
   },
   "outputs": [],
   "source": [
    "from collections import Counter, defaultdict\n",
    "from contextlib import suppress\n",
    "from pathlib import Path\n",
    "\n",
    "import matplotlib.pyplot as plt\n",
    "import matplotlib.ticker as mticker\n",
    "import pandas as pd\n",
    "from ruamel.yaml import YAML\n",
    "from ruamel.yaml.scanner import ScannerError\n",
    "from tqdm.auto import tqdm"
   ]
  },
  {
   "cell_type": "code",
   "execution_count": null,
   "id": "1",
   "metadata": {},
   "outputs": [],
   "source": [
    "months = [\n",
    "    \"2022-06\",\n",
    "    \"2022-07\",\n",
    "    \"2022-08\",\n",
    "    \"2022-09\",\n",
    "    \"2022-10\",\n",
    "    \"2022-11\",\n",
    "    \"2022-12\",\n",
    "    \"2023-01\",\n",
    "    \"2023-02\",\n",
    "    \"2023-03\",\n",
    "    \"2023-04\",\n",
    "    \"2023-05\",\n",
    "    \"2023-06\",\n",
    "    \"2023-07\",\n",
    "    \"2023-08\",\n",
    "    \"2023-09\",\n",
    "    \"2023-10\",\n",
    "    \"2023-11\",\n",
    "    \"2023-12\",\n",
    "    \"2024-01\",\n",
    "    \"2024-02\",\n",
    "    \"2024-03\",\n",
    "    \"2024-04\",\n",
    "    \"2024-05\",\n",
    "    \"2024-06\",\n",
    "    \"2024-07\",\n",
    "]\n",
    "pre_commit_root = Path(\"pre-commits\")\n",
    "repo_dir_list = list(pre_commit_root.iterdir())\n",
    "yaml = YAML(typ=\"safe\")\n",
    "yaml.allow_duplicate_keys = True"
   ]
  },
  {
   "cell_type": "markdown",
   "id": "2",
   "metadata": {},
   "source": [
    "## Explanation\n",
    "\n",
    "The following fairly dense logic iterates through each repos directory and each months .pre-commit-config.yaml files. Not all repos have a commit each calendar month so in that case if there is a preceding month that does have data about pre-commit tool the previous month data just fills forward into the missing month and that chaining repeats until a month without missing data is found.\n",
    "\n",
    "Some repos didn't have .pre-commit-config.yaml files for several months at the beginning of the requested timespan so they have no tools to count for those initial missing month periods (which is why I skip a few months of collected data when plotting the output). Ruff wasn't published until late Aug 2022 - I think the Ruff pre-commit tool didn't get published until a couple of months or so after that.\n",
    "\n",
    "Also note there's quite a few hacky looking conditional rules in the center of these loops to try and identify tool names. pre-commit can run any sort of tool - the easy case is the Github repo links, but there's also a lot of instances in repos of the pre-commit running local scripts and python modules so the conditional rules try to handle the majority of the cases I observed."
   ]
  },
  {
   "cell_type": "code",
   "execution_count": null,
   "id": "3",
   "metadata": {},
   "outputs": [],
   "source": [
    "month_repo_counters = defaultdict(Counter)\n",
    "for repo_dir in tqdm(repo_dir_list):\n",
    "    tool_names = []\n",
    "    precommit_dir_list = [(repo_dir / month) for month in months]\n",
    "    for precommit_dir in precommit_dir_list:\n",
    "        tool_names = []\n",
    "        if (precommit_dir / \".pre-commit-config.yaml\").is_file():\n",
    "            tool_names.append(\"precommit_count\")\n",
    "            with suppress(ScannerError):\n",
    "                yaml_data = yaml.load(precommit_dir / \".pre-commit-config.yaml\")\n",
    "                repos = yaml_data.get(\"repos\", yaml_data) if isinstance(yaml_data, dict) else yaml_data\n",
    "                tools_per_precommit_file = set()\n",
    "                for repo in repos:\n",
    "                    if \"http\" in repo[\"repo\"]:\n",
    "                        tool_name = repo[\"repo\"].split(\"/\")[-1] if repo[\"repo\"][-1] != \"/\" else repo[\"repo\"].split(\"/\")[-2]\n",
    "\n",
    "                        if tool_name.find(\"mirrors-\") == 0:\n",
    "                            tool_name = tool_name[len(\"mirrors-\") :]\n",
    "\n",
    "                        if tool_name.endswith(\".git\"):\n",
    "                            tool_name = tool_name[:-4]\n",
    "\n",
    "                        if tool_name == \"black-pre-commit-mirror\":\n",
    "                            tool_name = \"black\"\n",
    "                        elif tool_name == \"ruff-pre-commit\":\n",
    "                            tool_name = \"ruff\"\n",
    "                        if tool_name not in tools_per_precommit_file:\n",
    "                            tools_per_precommit_file.add(tool_name)\n",
    "                            tool_names.append(tool_name)\n",
    "                    elif len(repo[\"hooks\"]) > 0:\n",
    "                        hook = repo[\"hooks\"][0]\n",
    "                        if \"entry\" not in hook:\n",
    "                            continue\n",
    "                        tool_name = hook[\"entry\"]\n",
    "                        run_pos = tool_name.find(\" run \")\n",
    "                        if run_pos >= 0:\n",
    "                            tool_name = tool_name[run_pos + len(\" run \") :].split(\" \")[0]\n",
    "                        if tool_name.find(\"python -m \") == 0:\n",
    "                            tool_name = tool_name[len(\"python -m \") :].split(\" \")[0]\n",
    "                        elif tool_name.find(\"python \") == 0:\n",
    "                            tool_name = tool_name[len(\"python \") :].split(\" \")[0]\n",
    "                        elif tool_name.find(\"python3 \") == 0:\n",
    "                            tool_name = tool_name[len(\"python3 \") :].split(\" \")[0]\n",
    "                        elif tool_name.find(\"./activated.py python \") == 0:\n",
    "                            tool_name = tool_name[len(\"./activated.py python \") :].split(\" \")[0]\n",
    "                        elif tool_name.find(\"./activated.py \") == 0:\n",
    "                            tool_name = tool_name[len(\"./activated.py \") :].split(\" \")[0]\n",
    "                        elif tool_name == \"poetry\" and \"args\" in hook and len(hook[\"args\"]) >= 2 and hook[\"args\"][0] == \"run\":\n",
    "                            tool_name = hook[\"args\"][1]\n",
    "\n",
    "                        if tool_name.endswith(\".git\"):\n",
    "                            tool_name = tool_name[:-4]\n",
    "\n",
    "                        if tool_name.find(\"mirrors-\") == 0:\n",
    "                            tool_name = tool_name[len(\"mirrors-\") :]\n",
    "\n",
    "                        tool_name = tool_name.split(\" \")[0]\n",
    "\n",
    "                        if tool_name == \"black-pre-commit-mirror\":\n",
    "                            tool_name = \"black\"\n",
    "                        elif tool_name == \"ruff-pre-commit\":\n",
    "                            tool_name = \"ruff\"\n",
    "\n",
    "                        if tool_name not in tools_per_precommit_file:\n",
    "                            tools_per_precommit_file.add(tool_name)\n",
    "                            tool_names.append(tool_name)\n",
    "        month_repo_counters[precommit_dir.name].update(tool_names)"
   ]
  },
  {
   "cell_type": "code",
   "execution_count": null,
   "id": "4",
   "metadata": {},
   "outputs": [],
   "source": [
    "ordered_counters = [month_repo_counters[month] for month in months]\n",
    "df = pd.DataFrame(data=ordered_counters, index=months)\n",
    "df.index = pd.to_datetime(df.index)\n",
    "precommit_count = df.pop(\"precommit_count\")\n",
    "\n",
    "scaled_df = df.div(precommit_count, axis=0) * 100.0"
   ]
  },
  {
   "cell_type": "code",
   "execution_count": null,
   "id": "5",
   "metadata": {},
   "outputs": [],
   "source": [
    "scaled_df.iloc[-1:, :].sum().sort_values(ascending=False).iloc[:20].to_dict()"
   ]
  },
  {
   "cell_type": "code",
   "execution_count": null,
   "id": "6",
   "metadata": {},
   "outputs": [],
   "source": [
    "columns = [\"black\", \"flake8\", \"isort\", \"pyupgrade\", \"mypy\", \"ruff\"]"
   ]
  },
  {
   "cell_type": "code",
   "execution_count": null,
   "id": "7",
   "metadata": {},
   "outputs": [],
   "source": [
    "def percent_formatter(x, pos):\n",
    "    return f\"{int(x)}%\""
   ]
  },
  {
   "cell_type": "code",
   "execution_count": null,
   "id": "8",
   "metadata": {},
   "outputs": [],
   "source": [
    "ax = scaled_df.loc[:, columns].plot(figsize=(10.76, 7.68), title=\"Python Github Repo Pre-commit Tools\")\n",
    "ax.set_xlabel(\"Date\")\n",
    "ax.set_ylabel(\"Repo Percentage\")\n",
    "ax.grid(True, which=\"both\", alpha=0.1)\n",
    "ax.yaxis.set_major_formatter(mticker.FuncFormatter(percent_formatter))"
   ]
  },
  {
   "cell_type": "code",
   "execution_count": null,
   "id": "9",
   "metadata": {},
   "outputs": [],
   "source": [
    "ax.get_figure().savefig(\"ruff_growth.png\", bbox_inches=\"tight\", pad_inches=0.1)"
   ]
  },
  {
   "cell_type": "code",
   "execution_count": null,
   "id": "10",
   "metadata": {},
   "outputs": [],
   "source": [
    "with plt.style.context(\"grayscale\"):\n",
    "    # fig, ax = plt.subplots(figsize=(10.76, 7.68))\n",
    "    fig = plt.figure(figsize=(10.76, 7.68))\n",
    "    ax = fig.add_axes([0.1, 0.1, 0.9, 0.9])\n",
    "    for column in columns:\n",
    "        if column == \"ruff\":\n",
    "            ax.plot(scaled_df.index, scaled_df[column], label=column, color=\"fuchsia\", linewidth=5)\n",
    "        else:\n",
    "            ax.plot(scaled_df.index, scaled_df[column], label=column)\n",
    "    ax.set_xlabel(\"Date\")\n",
    "    ax.set_ylabel(\"Repo Percentage\")\n",
    "    ax.yaxis.set_major_formatter(mticker.FuncFormatter(percent_formatter))\n",
    "    # You may need to manually install the Alliance Platt or Palace Script MT fonts manually to reproduce\n",
    "    # this plot\n",
    "    ax.text(\n",
    "        0.42, 1.05, \"Ruff\", transform=ax.transAxes, ha=\"center\", va=\"bottom\", weight=\"bold\", fontsize=36, color=\"fuchsia\", family=\"Alliance\"\n",
    "    )\n",
    "    ax.text(0.48, 1.05, \"is\\nthe\\nnew\", transform=ax.transAxes, ha=\"left\", va=\"bottom\", fontsize=12, weight=\"normal\")\n",
    "    ax.text(\n",
    "        0.59,\n",
    "        1.03,\n",
    "        \"Black\",\n",
    "        transform=ax.transAxes,\n",
    "        ha=\"center\",\n",
    "        va=\"bottom\",\n",
    "        fontsize=64,\n",
    "        weight=\"bold\",\n",
    "        color=\"black\",\n",
    "        family=\"Palace Script MT\",\n",
    "    )\n",
    "    ax.text(\n",
    "        0.5, -0.1, \"Pre-commit tool usage over time in top 1000 Python repos by GitHub stars\", transform=ax.transAxes, ha=\"center\", va=\"top\"\n",
    "    )\n",
    "    ax.legend()\n",
    "    ax.grid(True, alpha=0.1)"
   ]
  },
  {
   "cell_type": "code",
   "execution_count": null,
   "id": "11",
   "metadata": {},
   "outputs": [],
   "source": [
    "fig.savefig(\"ruff_is_the_new_black.png\", bbox_inches=\"tight\", pad_inches=0.1)"
   ]
  },
  {
   "cell_type": "code",
   "execution_count": null,
   "id": "12",
   "metadata": {},
   "outputs": [],
   "source": [
    "df.fillna(0.0).to_csv(\"repo_count_per_precommit_tool.csv\")"
   ]
  },
  {
   "cell_type": "code",
   "execution_count": null,
   "id": "13",
   "metadata": {},
   "outputs": [],
   "source": [
    "repo_list = [str(path.stem) for path in repo_dir_list]\n",
    "\n",
    "file_path = Path(\"repos.txt\")\n",
    "\n",
    "# Open the file in write mode and write each element to the file\n",
    "with file_path.open(\"w\") as file:\n",
    "    for repo in repo_list:\n",
    "        file.write(f\"{repo}\\n\")"
   ]
  },
  {
   "cell_type": "code",
   "execution_count": null,
   "id": "14",
   "metadata": {},
   "outputs": [],
   "source": []
  }
 ],
 "metadata": {
  "kernelspec": {
   "display_name": "Python 3 (ipykernel)",
   "language": "python",
   "name": "python3"
  },
  "language_info": {
   "codemirror_mode": {
    "name": "ipython",
    "version": 3
   },
   "file_extension": ".py",
   "mimetype": "text/x-python",
   "name": "python",
   "nbconvert_exporter": "python",
   "pygments_lexer": "ipython3",
   "version": "3.12.2"
  }
 },
 "nbformat": 4,
 "nbformat_minor": 5
}
