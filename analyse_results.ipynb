{
 "cells": [
  {
   "cell_type": "code",
   "execution_count": null,
   "id": "71cadefd-b5f1-4fcf-b30c-c98f3ea2c5d5",
   "metadata": {},
   "outputs": [],
   "source": [
    "from collections import Counter, defaultdict\n",
    "from pathlib import Path\n",
    "\n",
    "import pandas as pd\n",
    "from ruamel.yaml import YAML\n",
    "from tqdm.auto import tqdm"
   ]
  },
  {
   "cell_type": "code",
   "execution_count": null,
   "id": "a11186f8-3a10-4688-9d0b-ced77cc5859c",
   "metadata": {},
   "outputs": [],
   "source": [
    "months = [\n",
    "    \"2022-06\",\n",
    "    \"2022-07\",\n",
    "    \"2022-08\",\n",
    "    \"2022-09\",\n",
    "    \"2022-10\",\n",
    "    \"2022-11\",\n",
    "    \"2022-12\",\n",
    "    \"2023-01\",\n",
    "    \"2023-02\",\n",
    "    \"2023-03\",\n",
    "    \"2023-04\",\n",
    "    \"2023-05\",\n",
    "    \"2023-06\",\n",
    "    \"2023-07\",\n",
    "    \"2023-08\",\n",
    "    \"2023-09\",\n",
    "    \"2023-10\",\n",
    "    \"2023-11\",\n",
    "    \"2023-12\",\n",
    "]\n",
    "pre_commit_root = Path(\"pre-commits\")\n",
    "repo_dir_list = list(pre_commit_root.iterdir())\n",
    "yaml = YAML(typ=\"safe\")\n",
    "yaml.allow_duplicate_keys = True"
   ]
  },
  {
   "cell_type": "markdown",
   "id": "a0528302-4eb8-475d-b32c-03a4265b861b",
   "metadata": {},
   "source": [
    "## Explanation\n",
    "\n",
    "The following fairly dense logic iterates through each repos directory and each months .pre-commit-config.yaml files. Not all repos have a commit each calendar month so in that case if there is a preceding month that does have data about pre-commit tool the previous month data just fills forward into the missing month and that chaining repeats until a month without missing data is found.\n",
    "\n",
    "Some repos didn't have .pre-commit-config.yaml files for several months at the beginning of the requested timespan so they have no tools to count for those initial missing month periods (which is why I skip a few months of collected data when plotting the output). Ruff wasn't published until late Aug 2022 - I think the Ruff pre-commit tool didn't get published until a couple of months or so after that.\n",
    "\n",
    "Also note there's quite a few hacky looking conditional rules in the center of these loops to try and identify tool names. pre-commit can run any sort of tool - the easy case is the Github repo links, but there's also a lot of instances in repos of the pre-commit running local scripts and python modules so the conditional rules try to handle the majority of the cases I observed."
   ]
  },
  {
   "cell_type": "code",
   "execution_count": null,
   "id": "b5236c0b-b6e3-4782-be90-2d83f2da67c2",
   "metadata": {},
   "outputs": [],
   "source": [
    "month_repo_counters = defaultdict(Counter)\n",
    "for repo_dir in tqdm(repo_dir_list):\n",
    "    tool_names = []\n",
    "    precommit_dir_list = [(repo_dir / month) for month in months]\n",
    "    for precommit_dir in precommit_dir_list:\n",
    "        tool_names = []\n",
    "        if (precommit_dir / \".pre-commit-config.yaml\").is_file():\n",
    "            tool_names.append(\"precommit_count\")\n",
    "            yaml_data = yaml.load(precommit_dir / \".pre-commit-config.yaml\")\n",
    "            repos = yaml_data[\"repos\"] if \"repos\" in yaml_data else yaml_data\n",
    "            for repo in repos:\n",
    "                if \"http\" in repo[\"repo\"]:\n",
    "                    tool_name = repo[\"repo\"].split(\"/\")[-1] if repo[\"repo\"][-1] != \"/\" else repo[\"repo\"].split(\"/\")[-2]\n",
    "                    tool_names.append(tool_name)\n",
    "                elif len(repo[\"hooks\"]) > 0:\n",
    "                    hook = repo[\"hooks\"][0]\n",
    "                    if \"entry\" not in hook:\n",
    "                        continue\n",
    "                    tool_name = hook[\"entry\"]\n",
    "                    if tool_name.find(\"poetry run \") == 0:\n",
    "                        tool_name = tool_name[len(\"poetry run \") :].split(\" \")[0]\n",
    "                    elif tool_name.find(\"python -m \") == 0:\n",
    "                        tool_name = tool_name[len(\"python -m \") :].split(\" \")[0]\n",
    "                    elif tool_name.find(\"python \") == 0:\n",
    "                        tool_name = tool_name[len(\"python \") :].split(\" \")[0]\n",
    "                    elif tool_name.find(\"python3 \") == 0:\n",
    "                        tool_name = tool_name[len(\"python3 \") :].split(\" \")[0]\n",
    "                    elif tool_name.find(\"./activated.py python \") == 0:\n",
    "                        tool_name = tool_name[len(\"./activated.py python \") :].split(\" \")[0]\n",
    "                    elif tool_name.find(\"./activated.py \") == 0:\n",
    "                        tool_name = tool_name[len(\"./activated.py \") :].split(\" \")[0]\n",
    "                    elif tool_name == \"poetry\" and \"args\" in hook and len(hook[\"args\"]) >= 2 and hook[\"args\"][0] == \"run\":\n",
    "                        tool_name = hook[\"args\"][1]\n",
    "\n",
    "                    if tool_name.find(\"mirrors-\") == 0:\n",
    "                        tool_name = tool_name[len(\"mirrors-\") :]\n",
    "\n",
    "                    tool_names.append(tool_name)\n",
    "        month_repo_counters[precommit_dir.name].update(tool_names)"
   ]
  },
  {
   "cell_type": "code",
   "execution_count": null,
   "id": "cc6cdeac-a211-4fb7-b2d3-3cabd7a597ff",
   "metadata": {},
   "outputs": [],
   "source": [
    "ordered_counters = [month_repo_counters[month] for month in months]\n",
    "df = pd.DataFrame(data=ordered_counters, index=months)\n",
    "df.index = pd.to_datetime(df.index)\n",
    "precommit_count = df.pop(\"precommit_count\")"
   ]
  },
  {
   "cell_type": "code",
   "execution_count": null,
   "id": "f8787811-98ef-485e-ac90-134db247e3b4",
   "metadata": {},
   "outputs": [],
   "source": [
    "df.sum().sort_values(ascending=False)[:20].to_dict()"
   ]
  },
  {
   "cell_type": "code",
   "execution_count": null,
   "id": "df59fd7f-42ec-45e7-9bbb-64a0adb3e258",
   "metadata": {},
   "outputs": [],
   "source": [
    "scaled_df = df.div(precommit_count, axis=0) * 100.0"
   ]
  },
  {
   "cell_type": "code",
   "execution_count": null,
   "id": "af141d3d-30cf-46e9-af76-006f49637ba8",
   "metadata": {},
   "outputs": [],
   "source": [
    "columns = [\"black\", \"flake8\", \"isort\", \"pyupgrade\", \"ruff-pre-commit\"]"
   ]
  },
  {
   "cell_type": "code",
   "execution_count": null,
   "id": "8705ae2e-ec77-43c3-923a-ee8b47bf6ca8",
   "metadata": {},
   "outputs": [],
   "source": [
    "ax = scaled_df.loc[:, columns].plot(figsize=(10.76, 7.68), title=\"Python Github Repo Pre-commit Tools\")\n",
    "ax.set_xlabel(\"Date\")\n",
    "ax.set_ylabel(\"Repo Percentage\")"
   ]
  },
  {
   "cell_type": "code",
   "execution_count": null,
   "id": "2fc1c278-cb4d-4653-bc35-5daf2e67804a",
   "metadata": {},
   "outputs": [],
   "source": [
    "ax.get_figure().savefig(\"ruff_growth.png\", bbox_inches=\"tight\", pad_inches=0.1)"
   ]
  },
  {
   "cell_type": "code",
   "execution_count": null,
   "id": "2074df43-79b3-4911-ab88-d041a5b21977",
   "metadata": {},
   "outputs": [],
   "source": [
    "import matplotlib.pyplot as plt\n",
    "import matplotlib.ticker as mticker"
   ]
  },
  {
   "cell_type": "code",
   "execution_count": null,
   "id": "544f6d40-9931-49e2-a725-4b3092c3a60c",
   "metadata": {},
   "outputs": [],
   "source": [
    "def percent_formatter(x, pos):\n",
    "    return f\"{int(x)}%\"\n",
    "\n",
    "\n",
    "with plt.style.context(\"grayscale\"):\n",
    "    # fig, ax = plt.subplots(figsize=(10.76, 7.68))\n",
    "    fig = plt.figure(figsize=(10.76, 7.68))\n",
    "    ax = fig.add_axes([0.1, 0.1, 0.9, 0.9])\n",
    "    for column in columns:\n",
    "        if column == \"ruff-pre-commit\":\n",
    "            ax.plot(scaled_df.index, scaled_df[column], label=column, color=\"fuchsia\", linewidth=5)\n",
    "        else:\n",
    "            ax.plot(scaled_df.index, scaled_df[column], label=column)\n",
    "    ax.set_xlabel(\"Date\")\n",
    "    ax.set_ylabel(\"Repo Percentage\")\n",
    "    ax.yaxis.set_major_formatter(mticker.FuncFormatter(percent_formatter))\n",
    "    # You may need to manually install the Alliance Platt or Palace Script MT fonts manually to reproduce\n",
    "    # this plot\n",
    "    ax.text(\n",
    "        0.42, 1.05, \"Ruff\", transform=ax.transAxes, ha=\"center\", va=\"bottom\", weight=\"bold\", fontsize=36, color=\"black\", family=\"Alliance\"\n",
    "    )\n",
    "    ax.text(0.48, 1.05, \"is\\nthe\\nnew\", transform=ax.transAxes, ha=\"left\", va=\"bottom\", fontsize=12, weight=\"normal\")\n",
    "    ax.text(\n",
    "        0.59,\n",
    "        1.03,\n",
    "        \"Black\",\n",
    "        transform=ax.transAxes,\n",
    "        ha=\"center\",\n",
    "        va=\"bottom\",\n",
    "        fontsize=64,\n",
    "        weight=\"bold\",\n",
    "        color=\"fuchsia\",\n",
    "        family=\"Palace Script MT\",\n",
    "    )\n",
    "    ax.text(\n",
    "        0.5, -0.1, \"Pre-commit tool usage over time in top 1000 Python repos by GitHub stars\", transform=ax.transAxes, ha=\"center\", va=\"top\"\n",
    "    )\n",
    "    ax.legend()\n",
    "    ax.grid(True, alpha=0.1)"
   ]
  },
  {
   "cell_type": "code",
   "execution_count": null,
   "id": "9e6e0d8a-937f-4c59-a8b8-317fca0c76ca",
   "metadata": {},
   "outputs": [],
   "source": [
    "fig.savefig(\"ruff_the_new_black.png\", bbox_inches=\"tight\", pad_inches=0.1)"
   ]
  },
  {
   "cell_type": "code",
   "execution_count": null,
   "id": "a4c14a4e-444e-46c0-af1f-545e5fd499e3",
   "metadata": {},
   "outputs": [],
   "source": [
    "df.fillna(0.0).to_csv(\"repo_count_per_precommit_tool.csv\")"
   ]
  },
  {
   "cell_type": "code",
   "execution_count": null,
   "id": "fe338d3a-8fa0-4b2f-97dc-01b921d0bde5",
   "metadata": {},
   "outputs": [],
   "source": [
    "repo_list = [str(path.stem) for path in repo_dir_list]\n",
    "\n",
    "file_path = Path(\"repos.txt\")\n",
    "\n",
    "# Open the file in write mode and write each element to the file\n",
    "with file_path.open(\"w\") as file:\n",
    "    for repo in repo_list:\n",
    "        file.write(f\"{repo}\\n\")"
   ]
  },
  {
   "cell_type": "code",
   "execution_count": null,
   "id": "675c526e-3a8c-4497-8154-88da351686b9",
   "metadata": {},
   "outputs": [],
   "source": []
  }
 ],
 "metadata": {
  "kernelspec": {
   "display_name": "Python 3 (ipykernel)",
   "language": "python",
   "name": "python3"
  },
  "language_info": {
   "codemirror_mode": {
    "name": "ipython",
    "version": 3
   },
   "file_extension": ".py",
   "mimetype": "text/x-python",
   "name": "python",
   "nbconvert_exporter": "python",
   "pygments_lexer": "ipython3",
   "version": "3.11.7"
  }
 },
 "nbformat": 4,
 "nbformat_minor": 5
}
