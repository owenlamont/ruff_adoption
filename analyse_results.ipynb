{
 "cells": [
  {
   "cell_type": "code",
   "execution_count": null,
   "id": "71cadefd-b5f1-4fcf-b30c-c98f3ea2c5d5",
   "metadata": {},
   "outputs": [],
   "source": [
    "from collections import Counter, defaultdict\n",
    "from pathlib import Path\n",
    "\n",
    "import pandas as pd\n",
    "from ruamel.yaml import YAML\n",
    "from tqdm.auto import tqdm"
   ]
  },
  {
   "cell_type": "code",
   "execution_count": null,
   "id": "a11186f8-3a10-4688-9d0b-ced77cc5859c",
   "metadata": {},
   "outputs": [],
   "source": [
    "months = [\"2022-06\",\n",
    "          \"2022-07\",\n",
    "          \"2022-08\",\n",
    "          \"2022-09\",\n",
    "          \"2022-10\",\n",
    "          \"2022-11\",\n",
    "          \"2022-12\",\n",
    "          \"2023-01\",\n",
    "          \"2023-02\",\n",
    "          \"2023-03\",\n",
    "          \"2023-04\",\n",
    "          \"2023-05\",\n",
    "          \"2023-06\",\n",
    "          \"2023-07\",\n",
    "          \"2023-08\",\n",
    "          \"2023-09\",\n",
    "          \"2023-10\",\n",
    "          \"2023-11\"]\n",
    "pre_commit_root = Path(\"pre-commits\")\n",
    "repo_dir_list = list(pre_commit_root.iterdir())\n",
    "yaml = YAML(typ=\"safe\")\n",
    "yaml.allow_duplicate_keys = True"
   ]
  },
  {
   "cell_type": "markdown",
   "id": "a0528302-4eb8-475d-b32c-03a4265b861b",
   "metadata": {},
   "source": [
    "## Explanation\n",
    "\n",
    "The following fairly dense logic iterates through each repos directory and each months .pre-commit-config.yaml files. Not all repos have a commit each calendar month so in that case if there is a preceding month that does have data about pre-commit tool the previous month data just fills forward into the missing month and that chaining repeats until a month without missing data is found.\n",
    "\n",
    "Some repos didn't have .pre-commit-config.yaml files for several months at the beginning of the requested timespan so they have no tools to count for those initial missing month periods (which is why I skip a few months of collected data when plotting the output). Ruff wasn't published until late Aug 2022 - I think the Ruff pre-commit tool didn't get published until a couple of months or so after that.\n",
    "\n",
    "Also note there's quite a few hacky looking conditional rules in the center of these loops to try and identify tool names. pre-commit can run any sort of tool - the easy case is the Github repo links, but there's also a lot of instances in repos of the pre-commit running local scripts and python modules so the conditional rules try to handle the majority of the cases I observed."
   ]
  },
  {
   "cell_type": "code",
   "execution_count": null,
   "id": "b5236c0b-b6e3-4782-be90-2d83f2da67c2",
   "metadata": {},
   "outputs": [],
   "source": [
    "month_repo_counters = defaultdict(Counter)\n",
    "for repo_dir in tqdm(repo_dir_list):\n",
    "    tool_names = []\n",
    "    precommit_dir_list = [(repo_dir / month) for month in months]\n",
    "    for precommit_dir in precommit_dir_list:\n",
    "        tool_names = []\n",
    "        if (precommit_dir / \".pre-commit-config.yaml\").is_file():\n",
    "            tool_names.append(\"precommit_count\")\n",
    "            yaml_data = yaml.load(precommit_dir / \".pre-commit-config.yaml\")\n",
    "            repos = yaml_data[\"repos\"] if \"repos\" in yaml_data else yaml_data\n",
    "            for repo in repos:\n",
    "                if \"http\" in repo[\"repo\"]:\n",
    "                    tool_name = repo[\"repo\"].split(\"/\")[-1] if repo[\"repo\"][-1] != \"/\" else repo[\"repo\"].split(\"/\")[-2]\n",
    "                    tool_names.append(tool_name)\n",
    "                elif len(repo[\"hooks\"]) > 0:\n",
    "                    hook = repo[\"hooks\"][0]\n",
    "                    if \"entry\" not in hook:\n",
    "                        continue\n",
    "                    tool_name = hook[\"entry\"]\n",
    "                    if tool_name.find(\"poetry run \") == 0:\n",
    "                        tool_name = tool_name[len(\"poetry run \"):].split(\" \")[0]\n",
    "                    elif tool_name.find(\"python -m \") == 0:\n",
    "                        tool_name = tool_name[len(\"python -m \"):].split(\" \")[0]\n",
    "                    elif tool_name.find(\"python \") == 0:\n",
    "                        tool_name = tool_name[len(\"python \"):].split(\" \")[0]\n",
    "                    elif tool_name.find(\"python3 \") == 0:\n",
    "                        tool_name = tool_name[len(\"python3 \"):].split(\" \")[0]\n",
    "                    elif tool_name.find(\"./activated.py python \") == 0:\n",
    "                        tool_name = tool_name[len(\"./activated.py python \"):].split(\" \")[0]\n",
    "                    elif tool_name.find(\"./activated.py \") == 0:\n",
    "                        tool_name = tool_name[len(\"./activated.py \"):].split(\" \")[0]\n",
    "                    elif tool_name == \"poetry\" and \"args\" in hook and len(hook[\"args\"]) >= 2 and hook[\"args\"][0] == \"run\":\n",
    "                        tool_name = hook[\"args\"][1]\n",
    "\n",
    "                    if tool_name.find(\"mirrors-\") == 0:\n",
    "                        tool_name = tool_name[len(\"mirrors-\"):]\n",
    "                    \n",
    "                    tool_names.append(tool_name)\n",
    "        month_repo_counters[precommit_dir.name].update(tool_names)"
   ]
  },
  {
   "cell_type": "code",
   "execution_count": null,
   "id": "cc6cdeac-a211-4fb7-b2d3-3cabd7a597ff",
   "metadata": {},
   "outputs": [],
   "source": [
    "ordered_counters = [month_repo_counters[month] for month in months]\n",
    "df = pd.DataFrame(data=ordered_counters, index=months)\n",
    "df.index = pd.to_datetime(df.index)\n",
    "precommit_count = df.pop(\"precommit_count\")"
   ]
  },
  {
   "cell_type": "code",
   "execution_count": null,
   "id": "f8787811-98ef-485e-ac90-134db247e3b4",
   "metadata": {},
   "outputs": [],
   "source": [
    "df.sum().sort_values(ascending=False)[:20].to_dict()"
   ]
  },
  {
   "cell_type": "code",
   "execution_count": null,
   "id": "df59fd7f-42ec-45e7-9bbb-64a0adb3e258",
   "metadata": {},
   "outputs": [],
   "source": [
    "scaled_df = df.div(precommit_count, axis=0) * 100.0"
   ]
  },
  {
   "cell_type": "code",
   "execution_count": null,
   "id": "af141d3d-30cf-46e9-af76-006f49637ba8",
   "metadata": {},
   "outputs": [],
   "source": [
    "columns = [\"black\",\n",
    "           \"flake8\",\n",
    "           \"isort\",\n",
    "           \"pyupgrade\",\n",
    "           \"ruff-pre-commit\"]"
   ]
  },
  {
   "cell_type": "code",
   "execution_count": null,
   "id": "8705ae2e-ec77-43c3-923a-ee8b47bf6ca8",
   "metadata": {},
   "outputs": [],
   "source": [
    "ax = scaled_df.loc[:, columns].plot(figsize=(10.76, 7.68), title=\"Python Github Repo Pre-commit Tools\")\n",
    "ax.set_xlabel(\"Date\")\n",
    "ax.set_ylabel(\"Repo Percentage\")"
   ]
  },
  {
   "cell_type": "code",
   "execution_count": null,
   "id": "2fc1c278-cb4d-4653-bc35-5daf2e67804a",
   "metadata": {},
   "outputs": [],
   "source": [
    "ax.get_figure().savefig(\"ruff_growth.png\", bbox_inches=\"tight\", pad_inches=0.1)"
   ]
  },
  {
   "cell_type": "code",
   "execution_count": null,
   "id": "0f7b235b-d7d6-4dd0-a19f-76ebbda6368e",
   "metadata": {},
   "outputs": [],
   "source": []
  }
 ],
 "metadata": {
  "kernelspec": {
   "display_name": "Python 3 (ipykernel)",
   "language": "python",
   "name": "python3"
  },
  "language_info": {
   "codemirror_mode": {
    "name": "ipython",
    "version": 3
   },
   "file_extension": ".py",
   "mimetype": "text/x-python",
   "name": "python",
   "nbconvert_exporter": "python",
   "pygments_lexer": "ipython3",
   "version": "3.11.6"
  }
 },
 "nbformat": 4,
 "nbformat_minor": 5
}
